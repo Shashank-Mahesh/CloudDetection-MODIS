{
 "cells": [
  {
   "cell_type": "code",
   "execution_count": 1,
   "metadata": {},
   "outputs": [
    {
     "name": "stdout",
     "output_type": "stream",
     "text": [
      "Parsed over  115  file,  660  images!\n"
     ]
    }
   ],
   "source": [
    "'''\n",
    "Author: Javier Villegas Bravo\n",
    "UIUC Department of Atmospheric Science\n",
    "\n",
    "\n",
    "docs can be found here for h5py\n",
    "http://docs.h5py.org/en/stable/quick.html\n",
    "and here for the data\n",
    "https://wiki.illinois.edu/wiki/display/~kindrtnk/Cloud+Detection+in+MODIS+Satellite+Images\n",
    "HDFView can be downloaded here\n",
    "https://www.hdfgroup.org/downloads/hdfview/\n",
    "NASA World View can be found here\n",
    "https://worldview.earthdata.nasa.gov\n",
    "'''\n",
    "\n",
    "import h5py\n",
    "import os\n",
    "import matplotlib.pyplot as plt\n",
    "\n",
    "#define file path\n",
    "home = '/home/hackathon/output_64_Javier_labelled/'\n",
    "\n",
    "filenames = [file for file in os.listdir(home) if file.endswith(\".hdf\")]\n",
    "\n",
    "good_filenames = list()\n",
    "OsErrors = 0\n",
    "imagesData = dict()\n",
    "\n",
    "for index, file in enumerate(filenames):\n",
    "    \n",
    "    file_path = home + file\n",
    "    \n",
    "    #grab h5py file object\n",
    "    try:\n",
    "        hf_file = h5py.File(file_path, 'r')\n",
    "    except OSError:\n",
    "        OsErrors += 1\n",
    "        continue\n",
    "    \n",
    "    #list the main groups; image number in this case\n",
    "    hf_keys = list(hf_file.keys())\n",
    "\n",
    "    # All Images informations\n",
    "    imagesData[file] = dict()\n",
    "\n",
    "    #access all data within images; save into an array if you like\n",
    "    #automatically extracted as numpy arrays\n",
    "    for image_num in hf_keys:\n",
    "        \n",
    "        Classification_Accuracy = hf_file[image_num + '/ClassificationAccuracy'][()]\n",
    "        Feature_Labels          = hf_file[image_num + '/FeatureLabels'][()]\n",
    "        Image_Classification    = hf_file[image_num + '/ImageClassification'][()]\n",
    "        Image_Features          = hf_file[image_num + '/ImageFeatures'][()]\n",
    "        \n",
    "        if Classification_Accuracy == 1:\n",
    "            imagesData[file][image_num] = list()\n",
    "            imagesData[file][image_num].append(Classification_Accuracy)\n",
    "            imagesData[file][image_num].append(Feature_Labels)\n",
    "            imagesData[file][image_num].append(Image_Classification)\n",
    "            imagesData[file][image_num].append(Image_Features)\n",
    "            good_filenames.append(file)\n",
    "\n",
    "print(\"Parsed over \", len(good_filenames), \" file, \", len(imagesData), \" images!\")"
   ]
  },
  {
   "cell_type": "code",
   "execution_count": 8,
   "metadata": {},
   "outputs": [],
   "source": [
    "import pandas as pd\n",
    "\n",
    "dataframeDictionary = dict()\n",
    "dataframeDictionary[\"Ground_truth\"] = list()\n",
    "# importantFeatures = [31,14,25,30,17,21,29,26]\n",
    "# importantFeatures = [14,25,31]\n",
    "\n",
    "# Prepare dictionary for all image features\n",
    "for filename in imagesData:\n",
    "    for image in imagesData[filename]:  \n",
    "        allImageFeatures = imagesData[filename][image][3]\n",
    "        for whichFeature in range(len(allImageFeatures)):\n",
    "            dataframeDictionary[whichFeature] = list()\n",
    "\n",
    "# Populating the data frame with all features and ground truth\n",
    "for filename in imagesData:\n",
    "    for image in imagesData[filename]:\n",
    "        allImageFeatures = imagesData[filename][image][3]\n",
    "        for whichFeature in range(len(allImageFeatures)):\n",
    "            imageFeatureMatrix = imagesData[filename][image][3][whichFeature]\n",
    "            for x in range(len(imageFeatureMatrix)):\n",
    "                for y in range(len(imageFeatureMatrix[x])):\n",
    "                    dataframeDictionary[whichFeature].append(imageFeatureMatrix[x][y])\n",
    "        \n",
    "        # Ground Truth \n",
    "        groundTruthMatrix = imagesData[filename][image][2]\n",
    "        for x in range(len(groundTruthMatrix)):\n",
    "                for y in range(len(groundTruthMatrix[x])):\n",
    "                    if groundTruthMatrix[x][y] > 1:\n",
    "                        groundTruthMatrix[x][y] = 1\n",
    "                    dataframeDictionary[\"Ground_truth\"].append(groundTruthMatrix[x][y])\n",
    "\n",
    "dataframe = pd.DataFrame(dataframeDictionary)"
   ]
  },
  {
   "cell_type": "code",
   "execution_count": 12,
   "metadata": {},
   "outputs": [],
   "source": [
    "dataframe_csv = dataframe.to_csv(\"Rutu_Entire_Feature_Dataframe.csv\", index=False)"
   ]
  },
  {
   "cell_type": "code",
   "execution_count": 16,
   "metadata": {},
   "outputs": [],
   "source": [
    "#split dataset in features and target variable\n",
    "\n",
    "#splitting the dataset into the source variables (independant variables) and the target variable (dependant variable)\n",
    "targetvar = dataframe[[\"Ground_truth\"]] # only the first column\n",
    "sourcevars = dataframe.drop(\"Ground_truth\", axis=1) # all columns except the first"
   ]
  },
  {
   "cell_type": "code",
   "execution_count": 17,
   "metadata": {},
   "outputs": [],
   "source": [
    "from sklearn.model_selection import train_test_split\n",
    "x_train,x_test,y_train,y_test=train_test_split(sourcevars,targetvar,test_size=0.25)"
   ]
  },
  {
   "cell_type": "code",
   "execution_count": 18,
   "metadata": {},
   "outputs": [
    {
     "name": "stderr",
     "output_type": "stream",
     "text": [
      "/opt/apps/anaconda3/envs/wmlce-v1.7.0-py3.7/lib/python3.7/site-packages/sklearn/utils/validation.py:760: DataConversionWarning: A column-vector y was passed when a 1d array was expected. Please change the shape of y to (n_samples, ), for example using ravel().\n",
      "  y = column_or_1d(y, warn=True)\n",
      "/opt/apps/anaconda3/envs/wmlce-v1.7.0-py3.7/lib/python3.7/site-packages/sklearn/linear_model/_logistic.py:940: ConvergenceWarning: lbfgs failed to converge (status=1):\n",
      "STOP: TOTAL NO. of ITERATIONS REACHED LIMIT.\n",
      "\n",
      "Increase the number of iterations (max_iter) or scale the data as shown in:\n",
      "    https://scikit-learn.org/stable/modules/preprocessing.html\n",
      "Please also refer to the documentation for alternative solver options:\n",
      "    https://scikit-learn.org/stable/modules/linear_model.html#logistic-regression\n",
      "  extra_warning_msg=_LOGISTIC_SOLVER_CONVERGENCE_MSG)\n"
     ]
    }
   ],
   "source": [
    "from sklearn.linear_model import LogisticRegression\n",
    "\n",
    "# instantiate the model (using the default parameters)\n",
    "logreg = LogisticRegression()\n",
    "\n",
    "# fit the model with data\n",
    "logreg.fit(x_train,y_train)\n",
    "\n",
    "y_pred=logreg.predict(x_test)"
   ]
  },
  {
   "cell_type": "code",
   "execution_count": 19,
   "metadata": {},
   "outputs": [
    {
     "data": {
      "text/plain": [
       "array([[82014,  3303],\n",
       "       [ 1615, 30828]])"
      ]
     },
     "execution_count": 19,
     "metadata": {},
     "output_type": "execute_result"
    }
   ],
   "source": [
    "# import the metrics class\n",
    "from sklearn import metrics\n",
    "cnf_matrix = metrics.confusion_matrix(y_test, y_pred)\n",
    "cnf_matrix"
   ]
  },
  {
   "cell_type": "code",
   "execution_count": 20,
   "metadata": {},
   "outputs": [
    {
     "name": "stdout",
     "output_type": "stream",
     "text": [
      "Accuracy: 0.9582370923913044\n"
     ]
    }
   ],
   "source": [
    "print(\"Accuracy:\",metrics.accuracy_score(y_test, y_pred))"
   ]
  },
  {
   "cell_type": "code",
   "execution_count": 21,
   "metadata": {},
   "outputs": [
    {
     "name": "stderr",
     "output_type": "stream",
     "text": [
      "/opt/apps/anaconda3/envs/wmlce-v1.7.0-py3.7/lib/python3.7/site-packages/sklearn/externals/joblib/__init__.py:15: FutureWarning: sklearn.externals.joblib is deprecated in 0.21 and will be removed in 0.23. Please import this functionality directly from joblib, which can be installed with: pip install joblib. If this warning is raised when loading pickled models, you may need to re-serialize those models with scikit-learn 0.21+.\n",
      "  warnings.warn(msg, category=FutureWarning)\n"
     ]
    },
    {
     "data": {
      "text/plain": [
       "['FinalLogRegOverAllFeatures.pkl']"
      ]
     },
     "execution_count": 21,
     "metadata": {},
     "output_type": "execute_result"
    }
   ],
   "source": [
    "import pickle\n",
    "from sklearn.externals import joblib\n",
    "joblib.dump(logreg, \"FinalLogRegOverAllFeatures.pkl\")"
   ]
  },
  {
   "cell_type": "code",
   "execution_count": null,
   "metadata": {},
   "outputs": [],
   "source": []
  }
 ],
 "metadata": {
  "kernelspec": {
   "display_name": "Python 3",
   "language": "python",
   "name": "python3"
  },
  "language_info": {
   "codemirror_mode": {
    "name": "ipython",
    "version": 3
   },
   "file_extension": ".py",
   "mimetype": "text/x-python",
   "name": "python",
   "nbconvert_exporter": "python",
   "pygments_lexer": "ipython3",
   "version": "3.7.6"
  }
 },
 "nbformat": 4,
 "nbformat_minor": 4
}
